{
 "cells": [
  {
   "cell_type": "code",
   "execution_count": 1,
   "id": "504a232c",
   "metadata": {
    "ExecuteTime": {
     "end_time": "2023-02-06T13:34:28.117911Z",
     "start_time": "2023-02-06T13:34:23.958932Z"
    }
   },
   "outputs": [],
   "source": [
    "import pandas as pd\n",
    "import numpy as np\n",
    "from sklearn.model_selection import train_test_split\n",
    "from sklearn.metrics import confusion_matrix\n",
    "from keras.models import Sequential\n",
    "from keras.layers import Dense, Activation,Layer,Lambda\n",
    "import seaborn as sns\n",
    "from sklearn.model_selection import train_test_split\n",
    "from matplotlib import pyplot as plt\n",
    "from sklearn.decomposition import PCA\n",
    "from mlxtend.plotting import plot_decision_regions"
   ]
  },
  {
   "cell_type": "markdown",
   "id": "d4c214f9",
   "metadata": {},
   "source": [
    "# 1 - Business Problem\n",
    "### ___PREDICT THE BURNED AREA OF FOREST FIRES WITH NEURAL NETWORKS___\n",
    "\n",
    "# 2 - Data collection and description"
   ]
  },
  {
   "cell_type": "code",
   "execution_count": 2,
   "id": "3b3a5f85",
   "metadata": {
    "ExecuteTime": {
     "end_time": "2023-02-06T13:34:28.133539Z",
     "start_time": "2023-02-06T13:34:28.117911Z"
    }
   },
   "outputs": [],
   "source": [
    "df = pd.read_csv(\"forestfires.csv\")"
   ]
  },
  {
   "cell_type": "code",
   "execution_count": 3,
   "id": "58606f12",
   "metadata": {
    "ExecuteTime": {
     "end_time": "2023-02-06T13:34:28.149809Z",
     "start_time": "2023-02-06T13:34:28.133539Z"
    }
   },
   "outputs": [],
   "source": [
    "df1 = df.copy()"
   ]
  },
  {
   "cell_type": "code",
   "execution_count": 4,
   "id": "f5062a42",
   "metadata": {
    "ExecuteTime": {
     "end_time": "2023-02-06T13:34:28.181987Z",
     "start_time": "2023-02-06T13:34:28.149809Z"
    }
   },
   "outputs": [
    {
     "data": {
      "text/html": [
       "<div>\n",
       "<style scoped>\n",
       "    .dataframe tbody tr th:only-of-type {\n",
       "        vertical-align: middle;\n",
       "    }\n",
       "\n",
       "    .dataframe tbody tr th {\n",
       "        vertical-align: top;\n",
       "    }\n",
       "\n",
       "    .dataframe thead th {\n",
       "        text-align: right;\n",
       "    }\n",
       "</style>\n",
       "<table border=\"1\" class=\"dataframe\">\n",
       "  <thead>\n",
       "    <tr style=\"text-align: right;\">\n",
       "      <th></th>\n",
       "      <th>month</th>\n",
       "      <th>day</th>\n",
       "      <th>FFMC</th>\n",
       "      <th>DMC</th>\n",
       "      <th>DC</th>\n",
       "      <th>ISI</th>\n",
       "      <th>temp</th>\n",
       "      <th>RH</th>\n",
       "      <th>wind</th>\n",
       "      <th>rain</th>\n",
       "      <th>...</th>\n",
       "      <th>monthfeb</th>\n",
       "      <th>monthjan</th>\n",
       "      <th>monthjul</th>\n",
       "      <th>monthjun</th>\n",
       "      <th>monthmar</th>\n",
       "      <th>monthmay</th>\n",
       "      <th>monthnov</th>\n",
       "      <th>monthoct</th>\n",
       "      <th>monthsep</th>\n",
       "      <th>size_category</th>\n",
       "    </tr>\n",
       "  </thead>\n",
       "  <tbody>\n",
       "    <tr>\n",
       "      <th>0</th>\n",
       "      <td>mar</td>\n",
       "      <td>fri</td>\n",
       "      <td>86.2</td>\n",
       "      <td>26.2</td>\n",
       "      <td>94.3</td>\n",
       "      <td>5.1</td>\n",
       "      <td>8.2</td>\n",
       "      <td>51</td>\n",
       "      <td>6.7</td>\n",
       "      <td>0.0</td>\n",
       "      <td>...</td>\n",
       "      <td>0</td>\n",
       "      <td>0</td>\n",
       "      <td>0</td>\n",
       "      <td>0</td>\n",
       "      <td>1</td>\n",
       "      <td>0</td>\n",
       "      <td>0</td>\n",
       "      <td>0</td>\n",
       "      <td>0</td>\n",
       "      <td>small</td>\n",
       "    </tr>\n",
       "    <tr>\n",
       "      <th>1</th>\n",
       "      <td>oct</td>\n",
       "      <td>tue</td>\n",
       "      <td>90.6</td>\n",
       "      <td>35.4</td>\n",
       "      <td>669.1</td>\n",
       "      <td>6.7</td>\n",
       "      <td>18.0</td>\n",
       "      <td>33</td>\n",
       "      <td>0.9</td>\n",
       "      <td>0.0</td>\n",
       "      <td>...</td>\n",
       "      <td>0</td>\n",
       "      <td>0</td>\n",
       "      <td>0</td>\n",
       "      <td>0</td>\n",
       "      <td>0</td>\n",
       "      <td>0</td>\n",
       "      <td>0</td>\n",
       "      <td>1</td>\n",
       "      <td>0</td>\n",
       "      <td>small</td>\n",
       "    </tr>\n",
       "    <tr>\n",
       "      <th>2</th>\n",
       "      <td>oct</td>\n",
       "      <td>sat</td>\n",
       "      <td>90.6</td>\n",
       "      <td>43.7</td>\n",
       "      <td>686.9</td>\n",
       "      <td>6.7</td>\n",
       "      <td>14.6</td>\n",
       "      <td>33</td>\n",
       "      <td>1.3</td>\n",
       "      <td>0.0</td>\n",
       "      <td>...</td>\n",
       "      <td>0</td>\n",
       "      <td>0</td>\n",
       "      <td>0</td>\n",
       "      <td>0</td>\n",
       "      <td>0</td>\n",
       "      <td>0</td>\n",
       "      <td>0</td>\n",
       "      <td>1</td>\n",
       "      <td>0</td>\n",
       "      <td>small</td>\n",
       "    </tr>\n",
       "    <tr>\n",
       "      <th>3</th>\n",
       "      <td>mar</td>\n",
       "      <td>fri</td>\n",
       "      <td>91.7</td>\n",
       "      <td>33.3</td>\n",
       "      <td>77.5</td>\n",
       "      <td>9.0</td>\n",
       "      <td>8.3</td>\n",
       "      <td>97</td>\n",
       "      <td>4.0</td>\n",
       "      <td>0.2</td>\n",
       "      <td>...</td>\n",
       "      <td>0</td>\n",
       "      <td>0</td>\n",
       "      <td>0</td>\n",
       "      <td>0</td>\n",
       "      <td>1</td>\n",
       "      <td>0</td>\n",
       "      <td>0</td>\n",
       "      <td>0</td>\n",
       "      <td>0</td>\n",
       "      <td>small</td>\n",
       "    </tr>\n",
       "    <tr>\n",
       "      <th>4</th>\n",
       "      <td>mar</td>\n",
       "      <td>sun</td>\n",
       "      <td>89.3</td>\n",
       "      <td>51.3</td>\n",
       "      <td>102.2</td>\n",
       "      <td>9.6</td>\n",
       "      <td>11.4</td>\n",
       "      <td>99</td>\n",
       "      <td>1.8</td>\n",
       "      <td>0.0</td>\n",
       "      <td>...</td>\n",
       "      <td>0</td>\n",
       "      <td>0</td>\n",
       "      <td>0</td>\n",
       "      <td>0</td>\n",
       "      <td>1</td>\n",
       "      <td>0</td>\n",
       "      <td>0</td>\n",
       "      <td>0</td>\n",
       "      <td>0</td>\n",
       "      <td>small</td>\n",
       "    </tr>\n",
       "    <tr>\n",
       "      <th>...</th>\n",
       "      <td>...</td>\n",
       "      <td>...</td>\n",
       "      <td>...</td>\n",
       "      <td>...</td>\n",
       "      <td>...</td>\n",
       "      <td>...</td>\n",
       "      <td>...</td>\n",
       "      <td>...</td>\n",
       "      <td>...</td>\n",
       "      <td>...</td>\n",
       "      <td>...</td>\n",
       "      <td>...</td>\n",
       "      <td>...</td>\n",
       "      <td>...</td>\n",
       "      <td>...</td>\n",
       "      <td>...</td>\n",
       "      <td>...</td>\n",
       "      <td>...</td>\n",
       "      <td>...</td>\n",
       "      <td>...</td>\n",
       "      <td>...</td>\n",
       "    </tr>\n",
       "    <tr>\n",
       "      <th>512</th>\n",
       "      <td>aug</td>\n",
       "      <td>sun</td>\n",
       "      <td>81.6</td>\n",
       "      <td>56.7</td>\n",
       "      <td>665.6</td>\n",
       "      <td>1.9</td>\n",
       "      <td>27.8</td>\n",
       "      <td>32</td>\n",
       "      <td>2.7</td>\n",
       "      <td>0.0</td>\n",
       "      <td>...</td>\n",
       "      <td>0</td>\n",
       "      <td>0</td>\n",
       "      <td>0</td>\n",
       "      <td>0</td>\n",
       "      <td>0</td>\n",
       "      <td>0</td>\n",
       "      <td>0</td>\n",
       "      <td>0</td>\n",
       "      <td>0</td>\n",
       "      <td>large</td>\n",
       "    </tr>\n",
       "    <tr>\n",
       "      <th>513</th>\n",
       "      <td>aug</td>\n",
       "      <td>sun</td>\n",
       "      <td>81.6</td>\n",
       "      <td>56.7</td>\n",
       "      <td>665.6</td>\n",
       "      <td>1.9</td>\n",
       "      <td>21.9</td>\n",
       "      <td>71</td>\n",
       "      <td>5.8</td>\n",
       "      <td>0.0</td>\n",
       "      <td>...</td>\n",
       "      <td>0</td>\n",
       "      <td>0</td>\n",
       "      <td>0</td>\n",
       "      <td>0</td>\n",
       "      <td>0</td>\n",
       "      <td>0</td>\n",
       "      <td>0</td>\n",
       "      <td>0</td>\n",
       "      <td>0</td>\n",
       "      <td>large</td>\n",
       "    </tr>\n",
       "    <tr>\n",
       "      <th>514</th>\n",
       "      <td>aug</td>\n",
       "      <td>sun</td>\n",
       "      <td>81.6</td>\n",
       "      <td>56.7</td>\n",
       "      <td>665.6</td>\n",
       "      <td>1.9</td>\n",
       "      <td>21.2</td>\n",
       "      <td>70</td>\n",
       "      <td>6.7</td>\n",
       "      <td>0.0</td>\n",
       "      <td>...</td>\n",
       "      <td>0</td>\n",
       "      <td>0</td>\n",
       "      <td>0</td>\n",
       "      <td>0</td>\n",
       "      <td>0</td>\n",
       "      <td>0</td>\n",
       "      <td>0</td>\n",
       "      <td>0</td>\n",
       "      <td>0</td>\n",
       "      <td>large</td>\n",
       "    </tr>\n",
       "    <tr>\n",
       "      <th>515</th>\n",
       "      <td>aug</td>\n",
       "      <td>sat</td>\n",
       "      <td>94.4</td>\n",
       "      <td>146.0</td>\n",
       "      <td>614.7</td>\n",
       "      <td>11.3</td>\n",
       "      <td>25.6</td>\n",
       "      <td>42</td>\n",
       "      <td>4.0</td>\n",
       "      <td>0.0</td>\n",
       "      <td>...</td>\n",
       "      <td>0</td>\n",
       "      <td>0</td>\n",
       "      <td>0</td>\n",
       "      <td>0</td>\n",
       "      <td>0</td>\n",
       "      <td>0</td>\n",
       "      <td>0</td>\n",
       "      <td>0</td>\n",
       "      <td>0</td>\n",
       "      <td>small</td>\n",
       "    </tr>\n",
       "    <tr>\n",
       "      <th>516</th>\n",
       "      <td>nov</td>\n",
       "      <td>tue</td>\n",
       "      <td>79.5</td>\n",
       "      <td>3.0</td>\n",
       "      <td>106.7</td>\n",
       "      <td>1.1</td>\n",
       "      <td>11.8</td>\n",
       "      <td>31</td>\n",
       "      <td>4.5</td>\n",
       "      <td>0.0</td>\n",
       "      <td>...</td>\n",
       "      <td>0</td>\n",
       "      <td>0</td>\n",
       "      <td>0</td>\n",
       "      <td>0</td>\n",
       "      <td>0</td>\n",
       "      <td>0</td>\n",
       "      <td>1</td>\n",
       "      <td>0</td>\n",
       "      <td>0</td>\n",
       "      <td>small</td>\n",
       "    </tr>\n",
       "  </tbody>\n",
       "</table>\n",
       "<p>517 rows × 31 columns</p>\n",
       "</div>"
      ],
      "text/plain": [
       "    month  day  FFMC    DMC     DC   ISI  temp  RH  wind  rain  ...  monthfeb  \\\n",
       "0     mar  fri  86.2   26.2   94.3   5.1   8.2  51   6.7   0.0  ...         0   \n",
       "1     oct  tue  90.6   35.4  669.1   6.7  18.0  33   0.9   0.0  ...         0   \n",
       "2     oct  sat  90.6   43.7  686.9   6.7  14.6  33   1.3   0.0  ...         0   \n",
       "3     mar  fri  91.7   33.3   77.5   9.0   8.3  97   4.0   0.2  ...         0   \n",
       "4     mar  sun  89.3   51.3  102.2   9.6  11.4  99   1.8   0.0  ...         0   \n",
       "..    ...  ...   ...    ...    ...   ...   ...  ..   ...   ...  ...       ...   \n",
       "512   aug  sun  81.6   56.7  665.6   1.9  27.8  32   2.7   0.0  ...         0   \n",
       "513   aug  sun  81.6   56.7  665.6   1.9  21.9  71   5.8   0.0  ...         0   \n",
       "514   aug  sun  81.6   56.7  665.6   1.9  21.2  70   6.7   0.0  ...         0   \n",
       "515   aug  sat  94.4  146.0  614.7  11.3  25.6  42   4.0   0.0  ...         0   \n",
       "516   nov  tue  79.5    3.0  106.7   1.1  11.8  31   4.5   0.0  ...         0   \n",
       "\n",
       "     monthjan  monthjul  monthjun  monthmar  monthmay  monthnov  monthoct  \\\n",
       "0           0         0         0         1         0         0         0   \n",
       "1           0         0         0         0         0         0         1   \n",
       "2           0         0         0         0         0         0         1   \n",
       "3           0         0         0         1         0         0         0   \n",
       "4           0         0         0         1         0         0         0   \n",
       "..        ...       ...       ...       ...       ...       ...       ...   \n",
       "512         0         0         0         0         0         0         0   \n",
       "513         0         0         0         0         0         0         0   \n",
       "514         0         0         0         0         0         0         0   \n",
       "515         0         0         0         0         0         0         0   \n",
       "516         0         0         0         0         0         1         0   \n",
       "\n",
       "     monthsep  size_category  \n",
       "0           0          small  \n",
       "1           0          small  \n",
       "2           0          small  \n",
       "3           0          small  \n",
       "4           0          small  \n",
       "..        ...            ...  \n",
       "512         0          large  \n",
       "513         0          large  \n",
       "514         0          large  \n",
       "515         0          small  \n",
       "516         0          small  \n",
       "\n",
       "[517 rows x 31 columns]"
      ]
     },
     "execution_count": 4,
     "metadata": {},
     "output_type": "execute_result"
    }
   ],
   "source": [
    "df1"
   ]
  },
  {
   "cell_type": "code",
   "execution_count": 5,
   "id": "59411424",
   "metadata": {
    "ExecuteTime": {
     "end_time": "2023-02-06T13:34:28.198225Z",
     "start_time": "2023-02-06T13:34:28.181987Z"
    }
   },
   "outputs": [],
   "source": [
    "df1.drop([\"month\",\"day\"],axis=1,inplace = True)"
   ]
  },
  {
   "cell_type": "code",
   "execution_count": 6,
   "id": "a98360c3",
   "metadata": {
    "ExecuteTime": {
     "end_time": "2023-02-06T13:34:28.214323Z",
     "start_time": "2023-02-06T13:34:28.198225Z"
    }
   },
   "outputs": [
    {
     "data": {
      "text/plain": [
       "small    378\n",
       "large    139\n",
       "Name: size_category, dtype: int64"
      ]
     },
     "execution_count": 6,
     "metadata": {},
     "output_type": "execute_result"
    }
   ],
   "source": [
    "df1[\"size_category\"].value_counts()"
   ]
  },
  {
   "cell_type": "code",
   "execution_count": 7,
   "id": "46390bfe",
   "metadata": {
    "ExecuteTime": {
     "end_time": "2023-02-06T13:34:28.230568Z",
     "start_time": "2023-02-06T13:34:28.214323Z"
    }
   },
   "outputs": [
    {
     "data": {
      "text/plain": [
       "FFMC             0\n",
       "DMC              0\n",
       "DC               0\n",
       "ISI              0\n",
       "temp             0\n",
       "RH               0\n",
       "wind             0\n",
       "rain             0\n",
       "area             0\n",
       "dayfri           0\n",
       "daymon           0\n",
       "daysat           0\n",
       "daysun           0\n",
       "daythu           0\n",
       "daytue           0\n",
       "daywed           0\n",
       "monthapr         0\n",
       "monthaug         0\n",
       "monthdec         0\n",
       "monthfeb         0\n",
       "monthjan         0\n",
       "monthjul         0\n",
       "monthjun         0\n",
       "monthmar         0\n",
       "monthmay         0\n",
       "monthnov         0\n",
       "monthoct         0\n",
       "monthsep         0\n",
       "size_category    0\n",
       "dtype: int64"
      ]
     },
     "execution_count": 7,
     "metadata": {},
     "output_type": "execute_result"
    }
   ],
   "source": [
    "df1.isnull().sum()"
   ]
  },
  {
   "cell_type": "code",
   "execution_count": 8,
   "id": "237f1126",
   "metadata": {
    "ExecuteTime": {
     "end_time": "2023-02-06T13:34:28.295676Z",
     "start_time": "2023-02-06T13:34:28.230568Z"
    }
   },
   "outputs": [
    {
     "data": {
      "text/html": [
       "<div>\n",
       "<style scoped>\n",
       "    .dataframe tbody tr th:only-of-type {\n",
       "        vertical-align: middle;\n",
       "    }\n",
       "\n",
       "    .dataframe tbody tr th {\n",
       "        vertical-align: top;\n",
       "    }\n",
       "\n",
       "    .dataframe thead th {\n",
       "        text-align: right;\n",
       "    }\n",
       "</style>\n",
       "<table border=\"1\" class=\"dataframe\">\n",
       "  <thead>\n",
       "    <tr style=\"text-align: right;\">\n",
       "      <th></th>\n",
       "      <th>count</th>\n",
       "      <th>mean</th>\n",
       "      <th>std</th>\n",
       "      <th>min</th>\n",
       "      <th>25%</th>\n",
       "      <th>50%</th>\n",
       "      <th>75%</th>\n",
       "      <th>max</th>\n",
       "    </tr>\n",
       "  </thead>\n",
       "  <tbody>\n",
       "    <tr>\n",
       "      <th>FFMC</th>\n",
       "      <td>517.0</td>\n",
       "      <td>90.644681</td>\n",
       "      <td>5.520111</td>\n",
       "      <td>18.7</td>\n",
       "      <td>90.2</td>\n",
       "      <td>91.60</td>\n",
       "      <td>92.90</td>\n",
       "      <td>96.20</td>\n",
       "    </tr>\n",
       "    <tr>\n",
       "      <th>DMC</th>\n",
       "      <td>517.0</td>\n",
       "      <td>110.872340</td>\n",
       "      <td>64.046482</td>\n",
       "      <td>1.1</td>\n",
       "      <td>68.6</td>\n",
       "      <td>108.30</td>\n",
       "      <td>142.40</td>\n",
       "      <td>291.30</td>\n",
       "    </tr>\n",
       "    <tr>\n",
       "      <th>DC</th>\n",
       "      <td>517.0</td>\n",
       "      <td>547.940039</td>\n",
       "      <td>248.066192</td>\n",
       "      <td>7.9</td>\n",
       "      <td>437.7</td>\n",
       "      <td>664.20</td>\n",
       "      <td>713.90</td>\n",
       "      <td>860.60</td>\n",
       "    </tr>\n",
       "    <tr>\n",
       "      <th>ISI</th>\n",
       "      <td>517.0</td>\n",
       "      <td>9.021663</td>\n",
       "      <td>4.559477</td>\n",
       "      <td>0.0</td>\n",
       "      <td>6.5</td>\n",
       "      <td>8.40</td>\n",
       "      <td>10.80</td>\n",
       "      <td>56.10</td>\n",
       "    </tr>\n",
       "    <tr>\n",
       "      <th>temp</th>\n",
       "      <td>517.0</td>\n",
       "      <td>18.889168</td>\n",
       "      <td>5.806625</td>\n",
       "      <td>2.2</td>\n",
       "      <td>15.5</td>\n",
       "      <td>19.30</td>\n",
       "      <td>22.80</td>\n",
       "      <td>33.30</td>\n",
       "    </tr>\n",
       "    <tr>\n",
       "      <th>RH</th>\n",
       "      <td>517.0</td>\n",
       "      <td>44.288201</td>\n",
       "      <td>16.317469</td>\n",
       "      <td>15.0</td>\n",
       "      <td>33.0</td>\n",
       "      <td>42.00</td>\n",
       "      <td>53.00</td>\n",
       "      <td>100.00</td>\n",
       "    </tr>\n",
       "    <tr>\n",
       "      <th>wind</th>\n",
       "      <td>517.0</td>\n",
       "      <td>4.017602</td>\n",
       "      <td>1.791653</td>\n",
       "      <td>0.4</td>\n",
       "      <td>2.7</td>\n",
       "      <td>4.00</td>\n",
       "      <td>4.90</td>\n",
       "      <td>9.40</td>\n",
       "    </tr>\n",
       "    <tr>\n",
       "      <th>rain</th>\n",
       "      <td>517.0</td>\n",
       "      <td>0.021663</td>\n",
       "      <td>0.295959</td>\n",
       "      <td>0.0</td>\n",
       "      <td>0.0</td>\n",
       "      <td>0.00</td>\n",
       "      <td>0.00</td>\n",
       "      <td>6.40</td>\n",
       "    </tr>\n",
       "    <tr>\n",
       "      <th>area</th>\n",
       "      <td>517.0</td>\n",
       "      <td>12.847292</td>\n",
       "      <td>63.655818</td>\n",
       "      <td>0.0</td>\n",
       "      <td>0.0</td>\n",
       "      <td>0.52</td>\n",
       "      <td>6.57</td>\n",
       "      <td>1090.84</td>\n",
       "    </tr>\n",
       "    <tr>\n",
       "      <th>dayfri</th>\n",
       "      <td>517.0</td>\n",
       "      <td>0.164410</td>\n",
       "      <td>0.371006</td>\n",
       "      <td>0.0</td>\n",
       "      <td>0.0</td>\n",
       "      <td>0.00</td>\n",
       "      <td>0.00</td>\n",
       "      <td>1.00</td>\n",
       "    </tr>\n",
       "    <tr>\n",
       "      <th>daymon</th>\n",
       "      <td>517.0</td>\n",
       "      <td>0.143133</td>\n",
       "      <td>0.350548</td>\n",
       "      <td>0.0</td>\n",
       "      <td>0.0</td>\n",
       "      <td>0.00</td>\n",
       "      <td>0.00</td>\n",
       "      <td>1.00</td>\n",
       "    </tr>\n",
       "    <tr>\n",
       "      <th>daysat</th>\n",
       "      <td>517.0</td>\n",
       "      <td>0.162476</td>\n",
       "      <td>0.369244</td>\n",
       "      <td>0.0</td>\n",
       "      <td>0.0</td>\n",
       "      <td>0.00</td>\n",
       "      <td>0.00</td>\n",
       "      <td>1.00</td>\n",
       "    </tr>\n",
       "    <tr>\n",
       "      <th>daysun</th>\n",
       "      <td>517.0</td>\n",
       "      <td>0.183752</td>\n",
       "      <td>0.387657</td>\n",
       "      <td>0.0</td>\n",
       "      <td>0.0</td>\n",
       "      <td>0.00</td>\n",
       "      <td>0.00</td>\n",
       "      <td>1.00</td>\n",
       "    </tr>\n",
       "    <tr>\n",
       "      <th>daythu</th>\n",
       "      <td>517.0</td>\n",
       "      <td>0.117988</td>\n",
       "      <td>0.322907</td>\n",
       "      <td>0.0</td>\n",
       "      <td>0.0</td>\n",
       "      <td>0.00</td>\n",
       "      <td>0.00</td>\n",
       "      <td>1.00</td>\n",
       "    </tr>\n",
       "    <tr>\n",
       "      <th>daytue</th>\n",
       "      <td>517.0</td>\n",
       "      <td>0.123791</td>\n",
       "      <td>0.329662</td>\n",
       "      <td>0.0</td>\n",
       "      <td>0.0</td>\n",
       "      <td>0.00</td>\n",
       "      <td>0.00</td>\n",
       "      <td>1.00</td>\n",
       "    </tr>\n",
       "    <tr>\n",
       "      <th>daywed</th>\n",
       "      <td>517.0</td>\n",
       "      <td>0.104449</td>\n",
       "      <td>0.306138</td>\n",
       "      <td>0.0</td>\n",
       "      <td>0.0</td>\n",
       "      <td>0.00</td>\n",
       "      <td>0.00</td>\n",
       "      <td>1.00</td>\n",
       "    </tr>\n",
       "    <tr>\n",
       "      <th>monthapr</th>\n",
       "      <td>517.0</td>\n",
       "      <td>0.017408</td>\n",
       "      <td>0.130913</td>\n",
       "      <td>0.0</td>\n",
       "      <td>0.0</td>\n",
       "      <td>0.00</td>\n",
       "      <td>0.00</td>\n",
       "      <td>1.00</td>\n",
       "    </tr>\n",
       "    <tr>\n",
       "      <th>monthaug</th>\n",
       "      <td>517.0</td>\n",
       "      <td>0.355899</td>\n",
       "      <td>0.479249</td>\n",
       "      <td>0.0</td>\n",
       "      <td>0.0</td>\n",
       "      <td>0.00</td>\n",
       "      <td>1.00</td>\n",
       "      <td>1.00</td>\n",
       "    </tr>\n",
       "    <tr>\n",
       "      <th>monthdec</th>\n",
       "      <td>517.0</td>\n",
       "      <td>0.017408</td>\n",
       "      <td>0.130913</td>\n",
       "      <td>0.0</td>\n",
       "      <td>0.0</td>\n",
       "      <td>0.00</td>\n",
       "      <td>0.00</td>\n",
       "      <td>1.00</td>\n",
       "    </tr>\n",
       "    <tr>\n",
       "      <th>monthfeb</th>\n",
       "      <td>517.0</td>\n",
       "      <td>0.038685</td>\n",
       "      <td>0.193029</td>\n",
       "      <td>0.0</td>\n",
       "      <td>0.0</td>\n",
       "      <td>0.00</td>\n",
       "      <td>0.00</td>\n",
       "      <td>1.00</td>\n",
       "    </tr>\n",
       "    <tr>\n",
       "      <th>monthjan</th>\n",
       "      <td>517.0</td>\n",
       "      <td>0.003868</td>\n",
       "      <td>0.062137</td>\n",
       "      <td>0.0</td>\n",
       "      <td>0.0</td>\n",
       "      <td>0.00</td>\n",
       "      <td>0.00</td>\n",
       "      <td>1.00</td>\n",
       "    </tr>\n",
       "    <tr>\n",
       "      <th>monthjul</th>\n",
       "      <td>517.0</td>\n",
       "      <td>0.061896</td>\n",
       "      <td>0.241199</td>\n",
       "      <td>0.0</td>\n",
       "      <td>0.0</td>\n",
       "      <td>0.00</td>\n",
       "      <td>0.00</td>\n",
       "      <td>1.00</td>\n",
       "    </tr>\n",
       "    <tr>\n",
       "      <th>monthjun</th>\n",
       "      <td>517.0</td>\n",
       "      <td>0.032882</td>\n",
       "      <td>0.178500</td>\n",
       "      <td>0.0</td>\n",
       "      <td>0.0</td>\n",
       "      <td>0.00</td>\n",
       "      <td>0.00</td>\n",
       "      <td>1.00</td>\n",
       "    </tr>\n",
       "    <tr>\n",
       "      <th>monthmar</th>\n",
       "      <td>517.0</td>\n",
       "      <td>0.104449</td>\n",
       "      <td>0.306138</td>\n",
       "      <td>0.0</td>\n",
       "      <td>0.0</td>\n",
       "      <td>0.00</td>\n",
       "      <td>0.00</td>\n",
       "      <td>1.00</td>\n",
       "    </tr>\n",
       "    <tr>\n",
       "      <th>monthmay</th>\n",
       "      <td>517.0</td>\n",
       "      <td>0.003868</td>\n",
       "      <td>0.062137</td>\n",
       "      <td>0.0</td>\n",
       "      <td>0.0</td>\n",
       "      <td>0.00</td>\n",
       "      <td>0.00</td>\n",
       "      <td>1.00</td>\n",
       "    </tr>\n",
       "    <tr>\n",
       "      <th>monthnov</th>\n",
       "      <td>517.0</td>\n",
       "      <td>0.001934</td>\n",
       "      <td>0.043980</td>\n",
       "      <td>0.0</td>\n",
       "      <td>0.0</td>\n",
       "      <td>0.00</td>\n",
       "      <td>0.00</td>\n",
       "      <td>1.00</td>\n",
       "    </tr>\n",
       "    <tr>\n",
       "      <th>monthoct</th>\n",
       "      <td>517.0</td>\n",
       "      <td>0.029014</td>\n",
       "      <td>0.168007</td>\n",
       "      <td>0.0</td>\n",
       "      <td>0.0</td>\n",
       "      <td>0.00</td>\n",
       "      <td>0.00</td>\n",
       "      <td>1.00</td>\n",
       "    </tr>\n",
       "    <tr>\n",
       "      <th>monthsep</th>\n",
       "      <td>517.0</td>\n",
       "      <td>0.332689</td>\n",
       "      <td>0.471632</td>\n",
       "      <td>0.0</td>\n",
       "      <td>0.0</td>\n",
       "      <td>0.00</td>\n",
       "      <td>1.00</td>\n",
       "      <td>1.00</td>\n",
       "    </tr>\n",
       "  </tbody>\n",
       "</table>\n",
       "</div>"
      ],
      "text/plain": [
       "          count        mean         std   min    25%     50%     75%      max\n",
       "FFMC      517.0   90.644681    5.520111  18.7   90.2   91.60   92.90    96.20\n",
       "DMC       517.0  110.872340   64.046482   1.1   68.6  108.30  142.40   291.30\n",
       "DC        517.0  547.940039  248.066192   7.9  437.7  664.20  713.90   860.60\n",
       "ISI       517.0    9.021663    4.559477   0.0    6.5    8.40   10.80    56.10\n",
       "temp      517.0   18.889168    5.806625   2.2   15.5   19.30   22.80    33.30\n",
       "RH        517.0   44.288201   16.317469  15.0   33.0   42.00   53.00   100.00\n",
       "wind      517.0    4.017602    1.791653   0.4    2.7    4.00    4.90     9.40\n",
       "rain      517.0    0.021663    0.295959   0.0    0.0    0.00    0.00     6.40\n",
       "area      517.0   12.847292   63.655818   0.0    0.0    0.52    6.57  1090.84\n",
       "dayfri    517.0    0.164410    0.371006   0.0    0.0    0.00    0.00     1.00\n",
       "daymon    517.0    0.143133    0.350548   0.0    0.0    0.00    0.00     1.00\n",
       "daysat    517.0    0.162476    0.369244   0.0    0.0    0.00    0.00     1.00\n",
       "daysun    517.0    0.183752    0.387657   0.0    0.0    0.00    0.00     1.00\n",
       "daythu    517.0    0.117988    0.322907   0.0    0.0    0.00    0.00     1.00\n",
       "daytue    517.0    0.123791    0.329662   0.0    0.0    0.00    0.00     1.00\n",
       "daywed    517.0    0.104449    0.306138   0.0    0.0    0.00    0.00     1.00\n",
       "monthapr  517.0    0.017408    0.130913   0.0    0.0    0.00    0.00     1.00\n",
       "monthaug  517.0    0.355899    0.479249   0.0    0.0    0.00    1.00     1.00\n",
       "monthdec  517.0    0.017408    0.130913   0.0    0.0    0.00    0.00     1.00\n",
       "monthfeb  517.0    0.038685    0.193029   0.0    0.0    0.00    0.00     1.00\n",
       "monthjan  517.0    0.003868    0.062137   0.0    0.0    0.00    0.00     1.00\n",
       "monthjul  517.0    0.061896    0.241199   0.0    0.0    0.00    0.00     1.00\n",
       "monthjun  517.0    0.032882    0.178500   0.0    0.0    0.00    0.00     1.00\n",
       "monthmar  517.0    0.104449    0.306138   0.0    0.0    0.00    0.00     1.00\n",
       "monthmay  517.0    0.003868    0.062137   0.0    0.0    0.00    0.00     1.00\n",
       "monthnov  517.0    0.001934    0.043980   0.0    0.0    0.00    0.00     1.00\n",
       "monthoct  517.0    0.029014    0.168007   0.0    0.0    0.00    0.00     1.00\n",
       "monthsep  517.0    0.332689    0.471632   0.0    0.0    0.00    1.00     1.00"
      ]
     },
     "execution_count": 8,
     "metadata": {},
     "output_type": "execute_result"
    }
   ],
   "source": [
    "df1.describe().T"
   ]
  },
  {
   "cell_type": "markdown",
   "id": "67b81007",
   "metadata": {},
   "source": [
    "# Outlier Check"
   ]
  },
  {
   "cell_type": "code",
   "execution_count": 9,
   "id": "ece55f54",
   "metadata": {
    "ExecuteTime": {
     "end_time": "2023-02-06T13:34:28.535659Z",
     "start_time": "2023-02-06T13:34:28.295800Z"
    }
   },
   "outputs": [
    {
     "name": "stderr",
     "output_type": "stream",
     "text": [
      "C:\\Users\\Vaishu\\anaconda3\\lib\\site-packages\\seaborn\\_decorators.py:36: FutureWarning: Pass the following variable as a keyword arg: x. From version 0.12, the only valid positional argument will be `data`, and passing other arguments without an explicit keyword will result in an error or misinterpretation.\n",
      "  warnings.warn(\n"
     ]
    },
    {
     "data": {
      "image/png": "[encoded data removed]",
      "text/plain": [
       "<Figure size 432x288 with 1 Axes>"
      ]
     },
     "metadata": {
      "needs_background": "light"
     },
     "output_type": "display_data"
    }
   ],
   "source": [
    "ax = sns.boxplot(df1['area'])"
   ]
  },
  {
   "cell_type": "markdown",
   "id": "b81443b5",
   "metadata": {},
   "source": [
    "# There are 3 Outlier instances in our data"
   ]
  },
  {
   "cell_type": "code",
   "execution_count": 10,
   "id": "7c148ad0",
   "metadata": {
    "ExecuteTime": {
     "end_time": "2023-02-06T13:34:28.551774Z",
     "start_time": "2023-02-06T13:34:28.535659Z"
    }
   },
   "outputs": [],
   "source": [
    "plt.rcParams[\"figure.figsize\"] = 9,5"
   ]
  },
  {
   "cell_type": "code",
   "execution_count": 11,
   "id": "396fcc84",
   "metadata": {
    "ExecuteTime": {
     "end_time": "2023-02-06T13:34:28.704765Z",
     "start_time": "2023-02-06T13:34:28.551774Z"
    }
   },
   "outputs": [
    {
     "name": "stdout",
     "output_type": "stream",
     "text": [
      "Skew: 12.846933533934868\n",
      "Kurtosis: 194.1407210942299\n"
     ]
    },
    {
     "data": {
      "image/png": "[encoded data removed]",
      "text/plain": [
       "<Figure size 1152x360 with 1 Axes>"
      ]
     },
     "metadata": {
      "needs_background": "light"
     },
     "output_type": "display_data"
    }
   ],
   "source": [
    "plt.figure(figsize=(16,5))\n",
    "print(\"Skew: {}\".format(df1['area'].skew()))\n",
    "print(\"Kurtosis: {}\".format(df1['area'].kurtosis()))\n",
    "ax = sns.kdeplot(df1['area'],shade=True,color='g')\n",
    "plt.xticks([i for i in range(0,1200,50)])\n",
    "plt.show()"
   ]
  },
  {
   "cell_type": "markdown",
   "id": "ca4f54fa",
   "metadata": {},
   "source": [
    "## The Data is highly skewed and has large kurtosis value\n",
    "## Majority of the forest fires do not cover a large area, most of the damaged area is under 100 hectares of land"
   ]
  },
  {
   "cell_type": "code",
   "execution_count": 12,
   "id": "47a8cb3d",
   "metadata": {
    "ExecuteTime": {
     "end_time": "2023-02-06T13:34:28.720892Z",
     "start_time": "2023-02-06T13:34:28.704765Z"
    }
   },
   "outputs": [],
   "source": [
    "dfa = df1[df1.columns[0:10]]\n",
    "month_colum = dfa.select_dtypes(include='object').columns.tolist()"
   ]
  },
  {
   "cell_type": "code",
   "execution_count": 13,
   "id": "934d2256",
   "metadata": {
    "ExecuteTime": {
     "end_time": "2023-02-06T13:34:28.737170Z",
     "start_time": "2023-02-06T13:34:28.720892Z"
    }
   },
   "outputs": [
    {
     "data": {
      "text/plain": [
       "<Figure size 1152x720 with 0 Axes>"
      ]
     },
     "metadata": {},
     "output_type": "display_data"
    }
   ],
   "source": [
    "plt.figure(figsize=(16,10))\n",
    "for i,col in enumerate(month_colum,1):\n",
    "    plt.subplot(2,2,i)\n",
    "    sns.countplot(data=dfa,y=col)\n",
    "    plt.subplot(2,2,i+2)\n",
    "    df1[col].value_counts(normalize=True).plot.bar()\n",
    "    plt.ylabel(col)\n",
    "    plt.xlabel('% distribution per category')\n",
    "plt.tight_layout()\n",
    "plt.show()  "
   ]
  },
  {
   "cell_type": "markdown",
   "id": "3be51baa",
   "metadata": {},
   "source": [
    "## Majority of the fire accors in the month Aug and Sep\n",
    "## For Days Sun and Fri have recoreded the most cases"
   ]
  },
  {
   "cell_type": "code",
   "execution_count": 14,
   "id": "e39000b8",
   "metadata": {
    "ExecuteTime": {
     "end_time": "2023-02-06T13:34:28.753396Z",
     "start_time": "2023-02-06T13:34:28.737170Z"
    }
   },
   "outputs": [],
   "source": [
    "num_columns = dfa.select_dtypes(exclude='object').columns.tolist()"
   ]
  },
  {
   "cell_type": "code",
   "execution_count": 15,
   "id": "bc425f33",
   "metadata": {
    "ExecuteTime": {
     "end_time": "2023-02-06T13:34:30.531877Z",
     "start_time": "2023-02-06T13:34:28.753396Z"
    }
   },
   "outputs": [
    {
     "data": {
      "image/png": "[encoded data removed]",
      "text/plain": [
       "<Figure size 1296x2880 with 20 Axes>"
      ]
     },
     "metadata": {
      "needs_background": "light"
     },
     "output_type": "display_data"
    },
    {
     "data": {
      "text/html": [
       "<div>\n",
       "<style scoped>\n",
       "    .dataframe tbody tr th:only-of-type {\n",
       "        vertical-align: middle;\n",
       "    }\n",
       "\n",
       "    .dataframe tbody tr th {\n",
       "        vertical-align: top;\n",
       "    }\n",
       "\n",
       "    .dataframe thead th {\n",
       "        text-align: right;\n",
       "    }\n",
       "</style>\n",
       "<table border=\"1\" class=\"dataframe\">\n",
       "  <thead>\n",
       "    <tr style=\"text-align: right;\">\n",
       "      <th></th>\n",
       "      <th>FFMC</th>\n",
       "      <th>DMC</th>\n",
       "      <th>DC</th>\n",
       "      <th>ISI</th>\n",
       "      <th>temp</th>\n",
       "      <th>RH</th>\n",
       "      <th>wind</th>\n",
       "      <th>rain</th>\n",
       "      <th>area</th>\n",
       "      <th>dayfri</th>\n",
       "    </tr>\n",
       "  </thead>\n",
       "  <tbody>\n",
       "    <tr>\n",
       "      <th>skewness</th>\n",
       "      <td>-6.575606</td>\n",
       "      <td>0.547498</td>\n",
       "      <td>-1.100445</td>\n",
       "      <td>2.536325</td>\n",
       "      <td>-0.331172</td>\n",
       "      <td>0.862904</td>\n",
       "      <td>0.571001</td>\n",
       "      <td>19.816344</td>\n",
       "      <td>12.846934</td>\n",
       "      <td>1.816105</td>\n",
       "    </tr>\n",
       "    <tr>\n",
       "      <th>kurtosis</th>\n",
       "      <td>67.066041</td>\n",
       "      <td>0.204822</td>\n",
       "      <td>-0.245244</td>\n",
       "      <td>21.458037</td>\n",
       "      <td>0.136166</td>\n",
       "      <td>0.438183</td>\n",
       "      <td>0.054324</td>\n",
       "      <td>421.295964</td>\n",
       "      <td>194.140721</td>\n",
       "      <td>1.303265</td>\n",
       "    </tr>\n",
       "  </tbody>\n",
       "</table>\n",
       "</div>"
      ],
      "text/plain": [
       "               FFMC       DMC        DC        ISI      temp        RH  \\\n",
       "skewness  -6.575606  0.547498 -1.100445   2.536325 -0.331172  0.862904   \n",
       "kurtosis  67.066041  0.204822 -0.245244  21.458037  0.136166  0.438183   \n",
       "\n",
       "              wind        rain        area    dayfri  \n",
       "skewness  0.571001   19.816344   12.846934  1.816105  \n",
       "kurtosis  0.054324  421.295964  194.140721  1.303265  "
      ]
     },
     "execution_count": 15,
     "metadata": {},
     "output_type": "execute_result"
    }
   ],
   "source": [
    "plt.figure(figsize=(18,40))\n",
    "for i,col in enumerate(num_columns,1):\n",
    "    plt.subplot(8,4,i)\n",
    "    sns.kdeplot(df[col],color='g',shade=True)\n",
    "    plt.subplot(8,4,i+10)\n",
    "    df[col].plot.box()\n",
    "plt.tight_layout() \n",
    "plt.show()\n",
    "num_data = df[num_columns]\n",
    "pd.DataFrame(data=[num_data.skew(),num_data.kurtosis()],index=['skewness','kurtosis'])"
   ]
  },
  {
   "cell_type": "markdown",
   "id": "45abf5f4",
   "metadata": {},
   "source": [
    "# Finding Correlation"
   ]
  },
  {
   "cell_type": "code",
   "execution_count": 16,
   "id": "85823a9c",
   "metadata": {
    "ExecuteTime": {
     "end_time": "2023-02-06T13:34:30.548213Z",
     "start_time": "2023-02-06T13:34:30.531877Z"
    }
   },
   "outputs": [],
   "source": [
    "corr = df1[df1.columns[0:11]].corr()"
   ]
  },
  {
   "cell_type": "code",
   "execution_count": 17,
   "id": "4b806eaa",
   "metadata": {
    "ExecuteTime": {
     "end_time": "2023-02-06T13:34:31.006862Z",
     "start_time": "2023-02-06T13:34:30.548213Z"
    }
   },
   "outputs": [
    {
     "data": {
      "text/plain": [
       "<AxesSubplot:>"
      ]
     },
     "execution_count": 17,
     "metadata": {},
     "output_type": "execute_result"
    },
    {
     "data": {
      "image/png": "[encoded data removed]",
      "text/plain": [
       "<Figure size 720x720 with 2 Axes>"
      ]
     },
     "metadata": {
      "needs_background": "light"
     },
     "output_type": "display_data"
    }
   ],
   "source": [
    "plt.figure(figsize=(10,10))\n",
    "sns.heatmap(corr,annot=True)"
   ]
  },
  {
   "cell_type": "markdown",
   "id": "340620b0",
   "metadata": {},
   "source": [
    "# 3 - Neural Network Model"
   ]
  },
  {
   "cell_type": "code",
   "execution_count": 18,
   "id": "2578e5d0",
   "metadata": {
    "ExecuteTime": {
     "end_time": "2023-02-06T13:34:31.023045Z",
     "start_time": "2023-02-06T13:34:31.006862Z"
    }
   },
   "outputs": [],
   "source": [
    "mapping = {'small': 1, 'large': 2}"
   ]
  },
  {
   "cell_type": "code",
   "execution_count": 19,
   "id": "ca625107",
   "metadata": {
    "ExecuteTime": {
     "end_time": "2023-02-06T13:34:31.039446Z",
     "start_time": "2023-02-06T13:34:31.023045Z"
    }
   },
   "outputs": [],
   "source": [
    "df1 = df1.replace(mapping)"
   ]
  },
  {
   "cell_type": "code",
   "execution_count": 20,
   "id": "df2f2dfe",
   "metadata": {
    "ExecuteTime": {
     "end_time": "2023-02-06T13:34:31.055866Z",
     "start_time": "2023-02-06T13:34:31.039446Z"
    }
   },
   "outputs": [],
   "source": [
    "X = np.array(df1.iloc[:,0:28])\n",
    "y = np.array(df1.iloc[:,28])"
   ]
  },
  {
   "cell_type": "code",
   "execution_count": 21,
   "id": "c6d8b74f",
   "metadata": {
    "ExecuteTime": {
     "end_time": "2023-02-06T13:34:31.064332Z",
     "start_time": "2023-02-06T13:34:31.055866Z"
    }
   },
   "outputs": [],
   "source": [
    "def norm_func(i):\n",
    "    x = (i-i.min())/(i.max()-i.min())\n",
    "    return (x)"
   ]
  },
  {
   "cell_type": "code",
   "execution_count": 22,
   "id": "09e4c035",
   "metadata": {
    "ExecuteTime": {
     "end_time": "2023-02-06T13:34:31.080643Z",
     "start_time": "2023-02-06T13:34:31.064332Z"
    }
   },
   "outputs": [],
   "source": [
    "X_norm = norm_func(X)"
   ]
  },
  {
   "cell_type": "code",
   "execution_count": 23,
   "id": "440de1d8",
   "metadata": {
    "ExecuteTime": {
     "end_time": "2023-02-06T13:34:31.096744Z",
     "start_time": "2023-02-06T13:34:31.080643Z"
    }
   },
   "outputs": [],
   "source": [
    "x_train,x_test,y_train,y_test= train_test_split(X_norm,y, test_size=0.2,stratify = y)"
   ]
  },
  {
   "cell_type": "code",
   "execution_count": 24,
   "id": "ec5dc7e1",
   "metadata": {
    "ExecuteTime": {
     "end_time": "2023-02-06T13:34:31.177379Z",
     "start_time": "2023-02-06T13:34:31.096744Z"
    }
   },
   "outputs": [],
   "source": [
    "model = Sequential()\n",
    "model.add(Dense(12, input_dim=28, activation='relu'))\n",
    "model.add(Dense(8, activation='relu'))\n",
    "model.add(Dense(1, activation='sigmoid'))"
   ]
  },
  {
   "cell_type": "code",
   "execution_count": 25,
   "id": "00ac4372",
   "metadata": {
    "ExecuteTime": {
     "end_time": "2023-02-06T13:34:31.193388Z",
     "start_time": "2023-02-06T13:34:31.177379Z"
    }
   },
   "outputs": [],
   "source": [
    "model.compile(loss='binary_crossentropy', optimizer='adam', metrics=['accuracy'])"
   ]
  },
  {
   "cell_type": "code",
   "execution_count": 26,
   "id": "e80e6627",
   "metadata": {
    "ExecuteTime": {
     "end_time": "2023-02-06T13:34:38.707903Z",
     "start_time": "2023-02-06T13:34:31.193388Z"
    }
   },
   "outputs": [
    {
     "name": "stdout",
     "output_type": "stream",
     "text": [
      "Epoch 1/150\n",
      "42/42 [==============================] - 1s 987us/step - loss: 0.6599 - accuracy: 0.6828\n",
      "Epoch 2/150\n",
      "42/42 [==============================] - 0s 989us/step - loss: 0.5584 - accuracy: 0.7312\n",
      "Epoch 3/150\n",
      "42/42 [==============================] - 0s 990us/step - loss: 0.4010 - accuracy: 0.7312\n",
      "Epoch 4/150\n",
      "42/42 [==============================] - 0s 982us/step - loss: 0.1486 - accuracy: 0.7312\n",
      "Epoch 5/150\n",
      "42/42 [==============================] - 0s 997us/step - loss: -0.1664 - accuracy: 0.7312\n",
      "Epoch 6/150\n",
      "42/42 [==============================] - 0s 981us/step - loss: -0.4968 - accuracy: 0.7312\n",
      "Epoch 7/150\n",
      "42/42 [==============================] - 0s 993us/step - loss: -0.8269 - accuracy: 0.7312\n",
      "Epoch 8/150\n",
      "42/42 [==============================] - 0s 992us/step - loss: -1.1918 - accuracy: 0.7312\n",
      "Epoch 9/150\n",
      "42/42 [==============================] - 0s 988us/step - loss: -1.6193 - accuracy: 0.7312\n",
      "Epoch 10/150\n",
      "42/42 [==============================] - 0s 985us/step - loss: -2.1545 - accuracy: 0.7312\n",
      "Epoch 11/150\n",
      "42/42 [==============================] - 0s 986us/step - loss: -2.8419 - accuracy: 0.7312\n",
      "Epoch 12/150\n",
      "42/42 [==============================] - 0s 989us/step - loss: -3.6862 - accuracy: 0.7312\n",
      "Epoch 13/150\n",
      "42/42 [==============================] - 0s 985us/step - loss: -4.7039 - accuracy: 0.7312\n",
      "Epoch 14/150\n",
      "42/42 [==============================] - 0s 981us/step - loss: -5.8571 - accuracy: 0.7312\n",
      "Epoch 15/150\n",
      "42/42 [==============================] - 0s 983us/step - loss: -7.2902 - accuracy: 0.7312\n",
      "Epoch 16/150\n",
      "42/42 [==============================] - 0s 981us/step - loss: -8.9115 - accuracy: 0.7312\n",
      "Epoch 17/150\n",
      "42/42 [==============================] - 0s 991us/step - loss: -10.7813 - accuracy: 0.7312\n",
      "Epoch 18/150\n",
      "42/42 [==============================] - 0s 987us/step - loss: -12.8771 - accuracy: 0.7312\n",
      "Epoch 19/150\n",
      "42/42 [==============================] - 0s 984us/step - loss: -15.2578 - accuracy: 0.7312\n",
      "Epoch 20/150\n",
      "42/42 [==============================] - 0s 995us/step - loss: -17.8999 - accuracy: 0.7312\n",
      "Epoch 21/150\n",
      "42/42 [==============================] - 0s 981us/step - loss: -20.8292 - accuracy: 0.7312\n",
      "Epoch 22/150\n",
      "42/42 [==============================] - 0s 1ms/step - loss: -24.1728 - accuracy: 0.7312\n",
      "Epoch 23/150\n",
      "42/42 [==============================] - 0s 998us/step - loss: -27.6557 - accuracy: 0.7312\n",
      "Epoch 24/150\n",
      "42/42 [==============================] - 0s 988us/step - loss: -31.4708 - accuracy: 0.7312\n",
      "Epoch 25/150\n",
      "42/42 [==============================] - 0s 995us/step - loss: -35.4691 - accuracy: 0.7312\n",
      "Epoch 26/150\n",
      "42/42 [==============================] - 0s 983us/step - loss: -39.7698 - accuracy: 0.7312\n",
      "Epoch 27/150\n",
      "42/42 [==============================] - 0s 794us/step - loss: -44.3607 - accuracy: 0.7312\n",
      "Epoch 28/150\n",
      "42/42 [==============================] - 0s 984us/step - loss: -49.7009 - accuracy: 0.7312\n",
      "Epoch 29/150\n",
      "42/42 [==============================] - 0s 995us/step - loss: -55.3715 - accuracy: 0.7312\n",
      "Epoch 30/150\n",
      "42/42 [==============================] - 0s 980us/step - loss: -61.4046 - accuracy: 0.7312\n",
      "Epoch 31/150\n",
      "42/42 [==============================] - 0s 985us/step - loss: -67.7697 - accuracy: 0.7312\n",
      "Epoch 32/150\n",
      "42/42 [==============================] - 0s 988us/step - loss: -74.6930 - accuracy: 0.7312\n",
      "Epoch 33/150\n",
      "42/42 [==============================] - 0s 988us/step - loss: -81.8653 - accuracy: 0.7312\n",
      "Epoch 34/150\n",
      "42/42 [==============================] - 0s 990us/step - loss: -89.6998 - accuracy: 0.7312\n",
      "Epoch 35/150\n",
      "42/42 [==============================] - 0s 991us/step - loss: -98.1134 - accuracy: 0.7312\n",
      "Epoch 36/150\n",
      "42/42 [==============================] - 0s 996us/step - loss: -106.5185 - accuracy: 0.7312\n",
      "Epoch 37/150\n",
      "42/42 [==============================] - 0s 984us/step - loss: -115.5805 - accuracy: 0.7312\n",
      "Epoch 38/150\n",
      "42/42 [==============================] - 0s 985us/step - loss: -124.5886 - accuracy: 0.7312\n",
      "Epoch 39/150\n",
      "42/42 [==============================] - 0s 995us/step - loss: -134.2099 - accuracy: 0.7312\n",
      "Epoch 40/150\n",
      "42/42 [==============================] - 0s 996us/step - loss: -144.4529 - accuracy: 0.7312\n",
      "Epoch 41/150\n",
      "42/42 [==============================] - 0s 983us/step - loss: -154.9319 - accuracy: 0.7312\n",
      "Epoch 42/150\n",
      "42/42 [==============================] - 0s 985us/step - loss: -165.8579 - accuracy: 0.7312\n",
      "Epoch 43/150\n",
      "42/42 [==============================] - 0s 985us/step - loss: -177.0647 - accuracy: 0.7312\n",
      "Epoch 44/150\n",
      "42/42 [==============================] - 0s 996us/step - loss: -188.7804 - accuracy: 0.7312\n",
      "Epoch 45/150\n",
      "42/42 [==============================] - 0s 980us/step - loss: -200.8942 - accuracy: 0.7312\n",
      "Epoch 46/150\n",
      "42/42 [==============================] - 0s 986us/step - loss: -213.7160 - accuracy: 0.7312\n",
      "Epoch 47/150\n",
      "42/42 [==============================] - 0s 993us/step - loss: -226.8846 - accuracy: 0.7312\n",
      "Epoch 48/150\n",
      "42/42 [==============================] - 0s 988us/step - loss: -240.8057 - accuracy: 0.7312\n",
      "Epoch 49/150\n",
      "42/42 [==============================] - 0s 990us/step - loss: -255.2929 - accuracy: 0.7312\n",
      "Epoch 50/150\n",
      "42/42 [==============================] - 0s 995us/step - loss: -270.2413 - accuracy: 0.7312\n",
      "Epoch 51/150\n",
      "42/42 [==============================] - 0s 997us/step - loss: -285.6853 - accuracy: 0.7312\n",
      "Epoch 52/150\n",
      "42/42 [==============================] - 0s 989us/step - loss: -301.7796 - accuracy: 0.7312\n",
      "Epoch 53/150\n",
      "42/42 [==============================] - 0s 993us/step - loss: -318.0621 - accuracy: 0.7312\n",
      "Epoch 54/150\n",
      "42/42 [==============================] - 0s 985us/step - loss: -334.8911 - accuracy: 0.7312\n",
      "Epoch 55/150\n",
      "42/42 [==============================] - 0s 987us/step - loss: -352.8530 - accuracy: 0.7312\n",
      "Epoch 56/150\n",
      "42/42 [==============================] - 0s 993us/step - loss: -370.9143 - accuracy: 0.7312\n",
      "Epoch 57/150\n",
      "42/42 [==============================] - 0s 991us/step - loss: -389.2825 - accuracy: 0.7312\n",
      "Epoch 58/150\n",
      "42/42 [==============================] - 0s 993us/step - loss: -407.8333 - accuracy: 0.7312\n",
      "Epoch 59/150\n",
      "42/42 [==============================] - 0s 988us/step - loss: -426.9927 - accuracy: 0.7312\n",
      "Epoch 60/150\n",
      "42/42 [==============================] - 0s 990us/step - loss: -447.3696 - accuracy: 0.7312\n",
      "Epoch 61/150\n",
      "42/42 [==============================] - 0s 988us/step - loss: -467.6222 - accuracy: 0.7312\n",
      "Epoch 62/150\n",
      "42/42 [==============================] - 0s 981us/step - loss: -488.0576 - accuracy: 0.7312\n",
      "Epoch 63/150\n",
      "42/42 [==============================] - 0s 987us/step - loss: -509.1405 - accuracy: 0.7312\n",
      "Epoch 64/150\n",
      "42/42 [==============================] - 0s 990us/step - loss: -530.7248 - accuracy: 0.7312\n",
      "Epoch 65/150\n",
      "42/42 [==============================] - 0s 992us/step - loss: -553.0165 - accuracy: 0.7312\n",
      "Epoch 66/150\n",
      "42/42 [==============================] - 0s 983us/step - loss: -576.3821 - accuracy: 0.7312\n",
      "Epoch 67/150\n",
      "42/42 [==============================] - 0s 983us/step - loss: -600.4475 - accuracy: 0.7312\n",
      "Epoch 68/150\n",
      "42/42 [==============================] - 0s 984us/step - loss: -624.5181 - accuracy: 0.7312\n",
      "Epoch 69/150\n",
      "42/42 [==============================] - 0s 993us/step - loss: -648.8088 - accuracy: 0.7312\n",
      "Epoch 70/150\n",
      "42/42 [==============================] - 0s 991us/step - loss: -673.8309 - accuracy: 0.7312\n",
      "Epoch 71/150\n",
      "42/42 [==============================] - 0s 984us/step - loss: -699.6090 - accuracy: 0.7312\n",
      "Epoch 72/150\n",
      "42/42 [==============================] - 0s 983us/step - loss: -726.2513 - accuracy: 0.7312\n",
      "Epoch 73/150\n",
      "42/42 [==============================] - 0s 988us/step - loss: -753.2581 - accuracy: 0.7312\n",
      "Epoch 74/150\n",
      "42/42 [==============================] - 0s 1ms/step - loss: -780.2908 - accuracy: 0.7312\n",
      "Epoch 75/150\n",
      "42/42 [==============================] - 0s 991us/step - loss: -808.2237 - accuracy: 0.7312\n",
      "Epoch 76/150\n",
      "42/42 [==============================] - 0s 983us/step - loss: -836.0809 - accuracy: 0.7312\n",
      "Epoch 77/150\n",
      "42/42 [==============================] - 0s 985us/step - loss: -865.3945 - accuracy: 0.7312\n",
      "Epoch 78/150\n",
      "42/42 [==============================] - 0s 991us/step - loss: -893.9966 - accuracy: 0.7312\n",
      "Epoch 79/150\n"
     ]
    },
    {
     "name": "stdout",
     "output_type": "stream",
     "text": [
      "42/42 [==============================] - 0s 987us/step - loss: -924.2408 - accuracy: 0.7312\n",
      "Epoch 80/150\n",
      "42/42 [==============================] - 0s 999us/step - loss: -954.9800 - accuracy: 0.7312\n",
      "Epoch 81/150\n",
      "42/42 [==============================] - 0s 984us/step - loss: -986.0904 - accuracy: 0.7312\n",
      "Epoch 82/150\n",
      "42/42 [==============================] - 0s 987us/step - loss: -1018.8349 - accuracy: 0.7312\n",
      "Epoch 83/150\n",
      "42/42 [==============================] - 0s 985us/step - loss: -1051.7351 - accuracy: 0.7312\n",
      "Epoch 84/150\n",
      "42/42 [==============================] - 0s 983us/step - loss: -1083.8458 - accuracy: 0.7312\n",
      "Epoch 85/150\n",
      "42/42 [==============================] - 0s 1ms/step - loss: -1117.5688 - accuracy: 0.7312\n",
      "Epoch 86/150\n",
      "42/42 [==============================] - 0s 973us/step - loss: -1151.5464 - accuracy: 0.7312\n",
      "Epoch 87/150\n",
      "42/42 [==============================] - 0s 996us/step - loss: -1185.7532 - accuracy: 0.7312\n",
      "Epoch 88/150\n",
      "42/42 [==============================] - 0s 987us/step - loss: -1221.0226 - accuracy: 0.7312\n",
      "Epoch 89/150\n",
      "42/42 [==============================] - 0s 995us/step - loss: -1256.4415 - accuracy: 0.7312\n",
      "Epoch 90/150\n",
      "42/42 [==============================] - 0s 1ms/step - loss: -1292.2966 - accuracy: 0.7312\n",
      "Epoch 91/150\n",
      "42/42 [==============================] - 0s 995us/step - loss: -1329.8629 - accuracy: 0.7312\n",
      "Epoch 92/150\n",
      "42/42 [==============================] - 0s 989us/step - loss: -1367.6218 - accuracy: 0.7312\n",
      "Epoch 93/150\n",
      "42/42 [==============================] - 0s 991us/step - loss: -1404.9125 - accuracy: 0.7312\n",
      "Epoch 94/150\n",
      "42/42 [==============================] - 0s 994us/step - loss: -1443.8735 - accuracy: 0.7312\n",
      "Epoch 95/150\n",
      "42/42 [==============================] - 0s 985us/step - loss: -1482.6643 - accuracy: 0.7312\n",
      "Epoch 96/150\n",
      "42/42 [==============================] - 0s 994us/step - loss: -1522.7715 - accuracy: 0.7312\n",
      "Epoch 97/150\n",
      "42/42 [==============================] - 0s 1ms/step - loss: -1562.3468 - accuracy: 0.7312\n",
      "Epoch 98/150\n",
      "42/42 [==============================] - 0s 985us/step - loss: -1603.8794 - accuracy: 0.7312\n",
      "Epoch 99/150\n",
      "42/42 [==============================] - 0s 1ms/step - loss: -1645.8783 - accuracy: 0.7312\n",
      "Epoch 100/150\n",
      "42/42 [==============================] - 0s 1ms/step - loss: -1687.4882 - accuracy: 0.7312\n",
      "Epoch 101/150\n",
      "42/42 [==============================] - 0s 987us/step - loss: -1730.6102 - accuracy: 0.7312\n",
      "Epoch 102/150\n",
      "42/42 [==============================] - 0s 996us/step - loss: -1774.4664 - accuracy: 0.7312\n",
      "Epoch 103/150\n",
      "42/42 [==============================] - 0s 991us/step - loss: -1818.3051 - accuracy: 0.7312\n",
      "Epoch 104/150\n",
      "42/42 [==============================] - 0s 994us/step - loss: -1863.7662 - accuracy: 0.7312\n",
      "Epoch 105/150\n",
      "42/42 [==============================] - 0s 982us/step - loss: -1908.6261 - accuracy: 0.7312\n",
      "Epoch 106/150\n",
      "42/42 [==============================] - 0s 984us/step - loss: -1955.3137 - accuracy: 0.7312\n",
      "Epoch 107/150\n",
      "42/42 [==============================] - 0s 986us/step - loss: -2003.0480 - accuracy: 0.7312\n",
      "Epoch 108/150\n",
      "42/42 [==============================] - 0s 984us/step - loss: -2048.9248 - accuracy: 0.7312\n",
      "Epoch 109/150\n",
      "42/42 [==============================] - 0s 988us/step - loss: -2096.7998 - accuracy: 0.7312\n",
      "Epoch 110/150\n",
      "42/42 [==============================] - 0s 805us/step - loss: -2144.7581 - accuracy: 0.7312\n",
      "Epoch 111/150\n",
      "42/42 [==============================] - 0s 993us/step - loss: -2194.9104 - accuracy: 0.7312\n",
      "Epoch 112/150\n",
      "42/42 [==============================] - 0s 982us/step - loss: -2244.0659 - accuracy: 0.7312\n",
      "Epoch 113/150\n",
      "42/42 [==============================] - 0s 984us/step - loss: -2294.0964 - accuracy: 0.7312\n",
      "Epoch 114/150\n",
      "42/42 [==============================] - 0s 990us/step - loss: -2343.6411 - accuracy: 0.7312\n",
      "Epoch 115/150\n",
      "42/42 [==============================] - 0s 991us/step - loss: -2395.3918 - accuracy: 0.7312\n",
      "Epoch 116/150\n",
      "42/42 [==============================] - 0s 795us/step - loss: -2447.9324 - accuracy: 0.7312\n",
      "Epoch 117/150\n",
      "42/42 [==============================] - 0s 984us/step - loss: -2501.4563 - accuracy: 0.7312\n",
      "Epoch 118/150\n",
      "42/42 [==============================] - 0s 1000us/step - loss: -2555.3813 - accuracy: 0.7312\n",
      "Epoch 119/150\n",
      "42/42 [==============================] - 0s 803us/step - loss: -2608.3420 - accuracy: 0.7312\n",
      "Epoch 120/150\n",
      "42/42 [==============================] - 0s 983us/step - loss: -2663.9355 - accuracy: 0.7312\n",
      "Epoch 121/150\n",
      "42/42 [==============================] - 0s 983us/step - loss: -2717.4065 - accuracy: 0.7312\n",
      "Epoch 122/150\n",
      "42/42 [==============================] - 0s 986us/step - loss: -2773.6550 - accuracy: 0.7312\n",
      "Epoch 123/150\n",
      "42/42 [==============================] - 0s 996us/step - loss: -2830.0813 - accuracy: 0.7312\n",
      "Epoch 124/150\n",
      "42/42 [==============================] - 0s 985us/step - loss: -2885.2512 - accuracy: 0.7312\n",
      "Epoch 125/150\n",
      "42/42 [==============================] - 0s 987us/step - loss: -2945.1924 - accuracy: 0.7312\n",
      "Epoch 126/150\n",
      "42/42 [==============================] - 0s 988us/step - loss: -3003.4744 - accuracy: 0.7312\n",
      "Epoch 127/150\n",
      "42/42 [==============================] - 0s 996us/step - loss: -3061.5918 - accuracy: 0.7312\n",
      "Epoch 128/150\n",
      "42/42 [==============================] - 0s 984us/step - loss: -3122.4268 - accuracy: 0.7312\n",
      "Epoch 129/150\n",
      "42/42 [==============================] - 0s 1ms/step - loss: -3183.2437 - accuracy: 0.7312\n",
      "Epoch 130/150\n",
      "42/42 [==============================] - 0s 994us/step - loss: -3243.7766 - accuracy: 0.7312\n",
      "Epoch 131/150\n",
      "42/42 [==============================] - 0s 995us/step - loss: -3305.8928 - accuracy: 0.7312\n",
      "Epoch 132/150\n",
      "42/42 [==============================] - 0s 991us/step - loss: -3368.8008 - accuracy: 0.7312\n",
      "Epoch 133/150\n",
      "42/42 [==============================] - 0s 1ms/step - loss: -3433.3604 - accuracy: 0.7312\n",
      "Epoch 134/150\n",
      "42/42 [==============================] - 0s 1ms/step - loss: -3496.4812 - accuracy: 0.7312\n",
      "Epoch 135/150\n",
      "42/42 [==============================] - 0s 877us/step - loss: -3560.7258 - accuracy: 0.7312\n",
      "Epoch 136/150\n",
      "42/42 [==============================] - 0s 987us/step - loss: -3625.7581 - accuracy: 0.7312\n",
      "Epoch 137/150\n",
      "42/42 [==============================] - 0s 985us/step - loss: -3691.3970 - accuracy: 0.7312\n",
      "Epoch 138/150\n",
      "42/42 [==============================] - 0s 984us/step - loss: -3759.3027 - accuracy: 0.7312\n",
      "Epoch 139/150\n",
      "42/42 [==============================] - 0s 997us/step - loss: -3829.8350 - accuracy: 0.7312\n",
      "Epoch 140/150\n",
      "42/42 [==============================] - 0s 985us/step - loss: -3898.4668 - accuracy: 0.7312\n",
      "Epoch 141/150\n",
      "42/42 [==============================] - 0s 989us/step - loss: -3967.9131 - accuracy: 0.7312\n",
      "Epoch 142/150\n",
      "42/42 [==============================] - 0s 983us/step - loss: -4036.5691 - accuracy: 0.7312\n",
      "Epoch 143/150\n",
      "42/42 [==============================] - 0s 992us/step - loss: -4107.7456 - accuracy: 0.7312\n",
      "Epoch 144/150\n",
      "42/42 [==============================] - 0s 983us/step - loss: -4178.6045 - accuracy: 0.7312\n",
      "Epoch 145/150\n",
      "42/42 [==============================] - 0s 980us/step - loss: -4252.7563 - accuracy: 0.7312\n",
      "Epoch 146/150\n",
      "42/42 [==============================] - 0s 1ms/step - loss: -4327.1841 - accuracy: 0.7312\n",
      "Epoch 147/150\n",
      "42/42 [==============================] - 0s 984us/step - loss: -4400.8052 - accuracy: 0.7312\n",
      "Epoch 148/150\n",
      "42/42 [==============================] - 0s 990us/step - loss: -4474.7949 - accuracy: 0.7312\n",
      "Epoch 149/150\n",
      "42/42 [==============================] - 0s 985us/step - loss: -4548.7612 - accuracy: 0.7312\n",
      "Epoch 150/150\n",
      "42/42 [==============================] - 0s 982us/step - loss: -4625.6636 - accuracy: 0.7312\n"
     ]
    },
    {
     "data": {
      "text/plain": [
       "<keras.callbacks.History at 0x1a1276b4580>"
      ]
     },
     "execution_count": 26,
     "metadata": {},
     "output_type": "execute_result"
    }
   ],
   "source": [
    "model.fit(x_train, y_train, epochs=150, batch_size=10)"
   ]
  },
  {
   "cell_type": "code",
   "execution_count": 27,
   "id": "4214a210",
   "metadata": {
    "ExecuteTime": {
     "end_time": "2023-02-06T13:34:38.935328Z",
     "start_time": "2023-02-06T13:34:38.707903Z"
    }
   },
   "outputs": [
    {
     "name": "stdout",
     "output_type": "stream",
     "text": [
      "13/13 [==============================] - 0s 1ms/step - loss: -4663.5894 - accuracy: 0.7312\n",
      "Accuracy: 73.12\n"
     ]
    }
   ],
   "source": [
    "_, accuracy = model.evaluate(x_train, y_train)\n",
    "print('Accuracy: %.2f' % (accuracy*100))"
   ]
  },
  {
   "cell_type": "markdown",
   "id": "134495bd",
   "metadata": {},
   "source": [
    "# 4 - Conclusion"
   ]
  },
  {
   "cell_type": "code",
   "execution_count": 28,
   "id": "02186bc8",
   "metadata": {
    "ExecuteTime": {
     "end_time": "2023-02-06T13:34:39.096999Z",
     "start_time": "2023-02-06T13:34:38.935328Z"
    }
   },
   "outputs": [
    {
     "name": "stdout",
     "output_type": "stream",
     "text": [
      "13/13 [==============================] - 0s 672us/step\n"
     ]
    }
   ],
   "source": [
    "predictions = model.predict(x_train)"
   ]
  },
  {
   "cell_type": "code",
   "execution_count": 29,
   "id": "3c4645ab",
   "metadata": {
    "ExecuteTime": {
     "end_time": "2023-02-06T13:34:39.113144Z",
     "start_time": "2023-02-06T13:34:39.096999Z"
    }
   },
   "outputs": [
    {
     "name": "stdout",
     "output_type": "stream",
     "text": [
      "[86.2, 26.2, 94.3, 5.1, 8.2, 51.0, 6.7, 0.0, 0.0, 1.0, 0.0, 0.0, 0.0, 0.0, 0.0, 0.0, 0.0, 0.0, 0.0, 0.0, 0.0, 0.0, 0.0, 1.0, 0.0, 0.0, 0.0, 0.0] => 1 (expected 1)\n",
      "[90.6, 35.4, 669.1, 6.7, 18.0, 33.0, 0.9, 0.0, 0.0, 0.0, 0.0, 0.0, 0.0, 0.0, 1.0, 0.0, 0.0, 0.0, 0.0, 0.0, 0.0, 0.0, 0.0, 0.0, 0.0, 0.0, 1.0, 0.0] => 1 (expected 1)\n",
      "[90.6, 43.7, 686.9, 6.7, 14.6, 33.0, 1.3, 0.0, 0.0, 0.0, 0.0, 1.0, 0.0, 0.0, 0.0, 0.0, 0.0, 0.0, 0.0, 0.0, 0.0, 0.0, 0.0, 0.0, 0.0, 0.0, 1.0, 0.0] => 1 (expected 1)\n",
      "[91.7, 33.3, 77.5, 9.0, 8.3, 97.0, 4.0, 0.2, 0.0, 1.0, 0.0, 0.0, 0.0, 0.0, 0.0, 0.0, 0.0, 0.0, 0.0, 0.0, 0.0, 0.0, 0.0, 1.0, 0.0, 0.0, 0.0, 0.0] => 1 (expected 1)\n",
      "[89.3, 51.3, 102.2, 9.6, 11.4, 99.0, 1.8, 0.0, 0.0, 0.0, 0.0, 0.0, 1.0, 0.0, 0.0, 0.0, 0.0, 0.0, 0.0, 0.0, 0.0, 0.0, 0.0, 1.0, 0.0, 0.0, 0.0, 0.0] => 1 (expected 1)\n"
     ]
    }
   ],
   "source": [
    "for i in range(5):\n",
    "    print('%s => %d (expected %d)' % (X[i].tolist(), predictions[i], y[i]))"
   ]
  }
 ],
 "metadata": {
  "kernelspec": {
   "display_name": "Python 3 (ipykernel)",
   "language": "python",
   "name": "python3"
  },
  "language_info": {
   "codemirror_mode": {
    "name": "ipython",
    "version": 3
   },
   "file_extension": ".py",
   "mimetype": "text/x-python",
   "name": "python",
   "nbconvert_exporter": "python",
   "pygments_lexer": "ipython3",
   "version": "3.9.12"
  }
 },
 "nbformat": 4,
 "nbformat_minor": 5
}
